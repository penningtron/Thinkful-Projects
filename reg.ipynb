{
  "nbformat": 4,
  "nbformat_minor": 0,
  "metadata": {
    "colab": {
      "name": "reg.ipynb",
      "version": "0.3.2",
      "provenance": [],
      "collapsed_sections": [],
      "include_colab_link": true
    },
    "kernelspec": {
      "name": "python3",
      "display_name": "Python 3"
    }
  },
  "cells": [
    {
      "cell_type": "markdown",
      "metadata": {
        "id": "view-in-github",
        "colab_type": "text"
      },
      "source": [
        "<a href=\"https://colab.research.google.com/github/penningtron/Thinkful-Projects/blob/master/reg.ipynb\" target=\"_parent\"><img src=\"https://colab.research.google.com/assets/colab-badge.svg\" alt=\"Open In Colab\"/></a>"
      ]
    },
    {
      "cell_type": "code",
      "metadata": {
        "id": "dwFy6ppl_tCh",
        "colab_type": "code",
        "colab": {}
      },
      "source": [
        "%matplotlib inline\n",
        "import numpy as np\n",
        "import pandas as pd\n",
        "import scipy\n",
        "import sklearn\n",
        "import matplotlib.pyplot as plt\n",
        "import seaborn as sns\n",
        "sns.set(style='whitegrid')\n",
        "from sklearn import preprocessing"
      ],
      "execution_count": 0,
      "outputs": []
    },
    {
      "cell_type": "markdown",
      "metadata": {
        "id": "DPbYIltLCEel",
        "colab_type": "text"
      },
      "source": [
        ""
      ]
    },
    {
      "cell_type": "code",
      "metadata": {
        "id": "OA0nTiom_vWK",
        "colab_type": "code",
        "colab": {}
      },
      "source": [
        "df = pd.read_excel('/content/table_8_offenses_known_to_law_enforcement_new_york_by_city_2013.xls',\n",
        "                  header= 3)\n"
      ],
      "execution_count": 0,
      "outputs": []
    },
    {
      "cell_type": "code",
      "metadata": {
        "id": "DzkvNIL1AAwg",
        "colab_type": "code",
        "outputId": "e0319661-9273-47a5-bcd7-268e718797cc",
        "colab": {
          "base_uri": "https://localhost:8080/",
          "height": 326
        }
      },
      "source": [
        "df = df.drop([0,0])\n",
        "\n",
        "\n",
        "\n",
        "df = df.fillna(0)\n",
        "df = df.rename(columns={'by City, 2013':'city',\n",
        "                       'Unnamed: 1':'population', \n",
        "                       'Unnamed: 2':'violent_crime', \n",
        "                       'Unnamed: 3':'murder', \n",
        "                       'Unnamed: 4':'rape_def1', \n",
        "                       'Unnamed: 5':'rape_def2', \n",
        "                       'Unnamed: 6':'robbery', \n",
        "                       'Unnamed: 7':'aggravated_assault', \n",
        "                       'Unnamed: 8':'property_crime', \n",
        "                       'Unnamed: 9':'burglary', \n",
        "                       'Unnamed: 10':'larceny_theft',\n",
        "                       'Unnamed: 11':'motor_theft',\n",
        "                       'Unnamed: 12':'arson',\n",
        "                       })\n",
        "df.head(5)\n",
        "\n"
      ],
      "execution_count": 0,
      "outputs": [
        {
          "output_type": "execute_result",
          "data": {
            "text/html": [
              "<div>\n",
              "<style scoped>\n",
              "    .dataframe tbody tr th:only-of-type {\n",
              "        vertical-align: middle;\n",
              "    }\n",
              "\n",
              "    .dataframe tbody tr th {\n",
              "        vertical-align: top;\n",
              "    }\n",
              "\n",
              "    .dataframe thead th {\n",
              "        text-align: right;\n",
              "    }\n",
              "</style>\n",
              "<table border=\"1\" class=\"dataframe\">\n",
              "  <thead>\n",
              "    <tr style=\"text-align: right;\">\n",
              "      <th></th>\n",
              "      <th>city</th>\n",
              "      <th>population</th>\n",
              "      <th>violent_crime</th>\n",
              "      <th>murder</th>\n",
              "      <th>rape_def1</th>\n",
              "      <th>rape_def2</th>\n",
              "      <th>robbery</th>\n",
              "      <th>aggravated_assault</th>\n",
              "      <th>property_crime</th>\n",
              "      <th>burglary</th>\n",
              "      <th>larceny_theft</th>\n",
              "      <th>motor_theft</th>\n",
              "      <th>arson</th>\n",
              "    </tr>\n",
              "  </thead>\n",
              "  <tbody>\n",
              "    <tr>\n",
              "      <th>1</th>\n",
              "      <td>Adams Village</td>\n",
              "      <td>1861</td>\n",
              "      <td>0</td>\n",
              "      <td>0</td>\n",
              "      <td>0</td>\n",
              "      <td>0</td>\n",
              "      <td>0</td>\n",
              "      <td>0</td>\n",
              "      <td>12</td>\n",
              "      <td>2</td>\n",
              "      <td>10</td>\n",
              "      <td>0</td>\n",
              "      <td>0</td>\n",
              "    </tr>\n",
              "    <tr>\n",
              "      <th>2</th>\n",
              "      <td>Addison Town and Village</td>\n",
              "      <td>2577</td>\n",
              "      <td>3</td>\n",
              "      <td>0</td>\n",
              "      <td>0</td>\n",
              "      <td>0</td>\n",
              "      <td>0</td>\n",
              "      <td>3</td>\n",
              "      <td>24</td>\n",
              "      <td>3</td>\n",
              "      <td>20</td>\n",
              "      <td>1</td>\n",
              "      <td>0</td>\n",
              "    </tr>\n",
              "    <tr>\n",
              "      <th>3</th>\n",
              "      <td>Akron Village</td>\n",
              "      <td>2846</td>\n",
              "      <td>3</td>\n",
              "      <td>0</td>\n",
              "      <td>0</td>\n",
              "      <td>0</td>\n",
              "      <td>0</td>\n",
              "      <td>3</td>\n",
              "      <td>16</td>\n",
              "      <td>1</td>\n",
              "      <td>15</td>\n",
              "      <td>0</td>\n",
              "      <td>0</td>\n",
              "    </tr>\n",
              "    <tr>\n",
              "      <th>4</th>\n",
              "      <td>Albany</td>\n",
              "      <td>97956</td>\n",
              "      <td>791</td>\n",
              "      <td>8</td>\n",
              "      <td>0</td>\n",
              "      <td>30</td>\n",
              "      <td>227</td>\n",
              "      <td>526</td>\n",
              "      <td>4090</td>\n",
              "      <td>705</td>\n",
              "      <td>3243</td>\n",
              "      <td>142</td>\n",
              "      <td>0</td>\n",
              "    </tr>\n",
              "    <tr>\n",
              "      <th>5</th>\n",
              "      <td>Albion Village</td>\n",
              "      <td>6388</td>\n",
              "      <td>23</td>\n",
              "      <td>0</td>\n",
              "      <td>0</td>\n",
              "      <td>3</td>\n",
              "      <td>4</td>\n",
              "      <td>16</td>\n",
              "      <td>223</td>\n",
              "      <td>53</td>\n",
              "      <td>165</td>\n",
              "      <td>5</td>\n",
              "      <td>0</td>\n",
              "    </tr>\n",
              "  </tbody>\n",
              "</table>\n",
              "</div>"
            ],
            "text/plain": [
              "                       city  population  ...  motor_theft  arson\n",
              "1             Adams Village        1861  ...            0      0\n",
              "2  Addison Town and Village        2577  ...            1      0\n",
              "3             Akron Village        2846  ...            0      0\n",
              "4                    Albany       97956  ...          142      0\n",
              "5            Albion Village        6388  ...            5      0\n",
              "\n",
              "[5 rows x 13 columns]"
            ]
          },
          "metadata": {
            "tags": []
          },
          "execution_count": 58
        }
      ]
    },
    {
      "cell_type": "code",
      "metadata": {
        "id": "3mpVTfhSG4Cy",
        "colab_type": "code",
        "outputId": "60397bc5-f7cd-4023-cb2f-661a97fa0c0b",
        "colab": {
          "base_uri": "https://localhost:8080/",
          "height": 224
        }
      },
      "source": [
        "df_clean = df.drop(columns=['city'])\n",
        "\n",
        "df_clean.head(5)"
      ],
      "execution_count": 0,
      "outputs": [
        {
          "output_type": "execute_result",
          "data": {
            "text/html": [
              "<div>\n",
              "<style scoped>\n",
              "    .dataframe tbody tr th:only-of-type {\n",
              "        vertical-align: middle;\n",
              "    }\n",
              "\n",
              "    .dataframe tbody tr th {\n",
              "        vertical-align: top;\n",
              "    }\n",
              "\n",
              "    .dataframe thead th {\n",
              "        text-align: right;\n",
              "    }\n",
              "</style>\n",
              "<table border=\"1\" class=\"dataframe\">\n",
              "  <thead>\n",
              "    <tr style=\"text-align: right;\">\n",
              "      <th></th>\n",
              "      <th>population</th>\n",
              "      <th>violent_crime</th>\n",
              "      <th>murder</th>\n",
              "      <th>rape_def1</th>\n",
              "      <th>rape_def2</th>\n",
              "      <th>robbery</th>\n",
              "      <th>aggravated_assault</th>\n",
              "      <th>property_crime</th>\n",
              "      <th>burglary</th>\n",
              "      <th>larceny_theft</th>\n",
              "      <th>motor_theft</th>\n",
              "      <th>arson</th>\n",
              "    </tr>\n",
              "  </thead>\n",
              "  <tbody>\n",
              "    <tr>\n",
              "      <th>1</th>\n",
              "      <td>1861</td>\n",
              "      <td>0</td>\n",
              "      <td>0</td>\n",
              "      <td>0</td>\n",
              "      <td>0</td>\n",
              "      <td>0</td>\n",
              "      <td>0</td>\n",
              "      <td>12</td>\n",
              "      <td>2</td>\n",
              "      <td>10</td>\n",
              "      <td>0</td>\n",
              "      <td>0</td>\n",
              "    </tr>\n",
              "    <tr>\n",
              "      <th>2</th>\n",
              "      <td>2577</td>\n",
              "      <td>3</td>\n",
              "      <td>0</td>\n",
              "      <td>0</td>\n",
              "      <td>0</td>\n",
              "      <td>0</td>\n",
              "      <td>3</td>\n",
              "      <td>24</td>\n",
              "      <td>3</td>\n",
              "      <td>20</td>\n",
              "      <td>1</td>\n",
              "      <td>0</td>\n",
              "    </tr>\n",
              "    <tr>\n",
              "      <th>3</th>\n",
              "      <td>2846</td>\n",
              "      <td>3</td>\n",
              "      <td>0</td>\n",
              "      <td>0</td>\n",
              "      <td>0</td>\n",
              "      <td>0</td>\n",
              "      <td>3</td>\n",
              "      <td>16</td>\n",
              "      <td>1</td>\n",
              "      <td>15</td>\n",
              "      <td>0</td>\n",
              "      <td>0</td>\n",
              "    </tr>\n",
              "    <tr>\n",
              "      <th>4</th>\n",
              "      <td>97956</td>\n",
              "      <td>791</td>\n",
              "      <td>8</td>\n",
              "      <td>0</td>\n",
              "      <td>30</td>\n",
              "      <td>227</td>\n",
              "      <td>526</td>\n",
              "      <td>4090</td>\n",
              "      <td>705</td>\n",
              "      <td>3243</td>\n",
              "      <td>142</td>\n",
              "      <td>0</td>\n",
              "    </tr>\n",
              "    <tr>\n",
              "      <th>5</th>\n",
              "      <td>6388</td>\n",
              "      <td>23</td>\n",
              "      <td>0</td>\n",
              "      <td>0</td>\n",
              "      <td>3</td>\n",
              "      <td>4</td>\n",
              "      <td>16</td>\n",
              "      <td>223</td>\n",
              "      <td>53</td>\n",
              "      <td>165</td>\n",
              "      <td>5</td>\n",
              "      <td>0</td>\n",
              "    </tr>\n",
              "  </tbody>\n",
              "</table>\n",
              "</div>"
            ],
            "text/plain": [
              "   population  violent_crime  murder  ...  larceny_theft  motor_theft  arson\n",
              "1        1861              0       0  ...             10            0      0\n",
              "2        2577              3       0  ...             20            1      0\n",
              "3        2846              3       0  ...             15            0      0\n",
              "4       97956            791       8  ...           3243          142      0\n",
              "5        6388             23       0  ...            165            5      0\n",
              "\n",
              "[5 rows x 12 columns]"
            ]
          },
          "metadata": {
            "tags": []
          },
          "execution_count": 65
        }
      ]
    },
    {
      "cell_type": "code",
      "metadata": {
        "id": "aq9iVCz8AVZm",
        "colab_type": "code",
        "colab": {}
      },
      "source": [
        "pop = df['population']\n",
        "pop_sqr = pop * pop\n",
        "murder = df['murder']\n",
        "robbery = df['robbery']\n",
        "b = 0"
      ],
      "execution_count": 0,
      "outputs": []
    },
    {
      "cell_type": "code",
      "metadata": {
        "id": "Siuj6610AYYo",
        "colab_type": "code",
        "colab": {}
      },
      "source": [
        "#set target\n",
        "target = df.property_crime"
      ],
      "execution_count": 0,
      "outputs": []
    },
    {
      "cell_type": "code",
      "metadata": {
        "id": "DAHKX5uVAwEm",
        "colab_type": "code",
        "colab": {}
      },
      "source": [
        "x = df_clean\n",
        "y = target"
      ],
      "execution_count": 0,
      "outputs": []
    },
    {
      "cell_type": "code",
      "metadata": {
        "id": "7l3vkS0cA6dy",
        "colab_type": "code",
        "colab": {}
      },
      "source": [
        "\n",
        "\n",
        "lm = linear_model.LinearRegression()\n",
        "model = lm.fit(x,y)"
      ],
      "execution_count": 0,
      "outputs": []
    },
    {
      "cell_type": "code",
      "metadata": {
        "id": "rYeHv5ohBEiy",
        "colab_type": "code",
        "outputId": "4f5bc850-357b-4d21-f474-32ef0fac77aa",
        "colab": {
          "base_uri": "https://localhost:8080/",
          "height": 1000
        }
      },
      "source": [
        "predictions = lm.predict(x)\n",
        "print(predictions)[0:5]"
      ],
      "execution_count": 0,
      "outputs": [
        {
          "output_type": "stream",
          "text": [
            "[1.20000000e+01 2.40000000e+01 1.60000000e+01 4.09000000e+03\n",
            " 2.23000000e+02 4.60000000e+01 1.00000000e+01 2.11800000e+03\n",
            " 2.10000000e+02 4.05000000e+02 3.90000000e+01 3.30000000e+01\n",
            " 2.00000000e+00 5.00000000e+00 8.59000000e+02 2.50000000e+01\n",
            " 8.80000000e+01 9.40000000e+01 5.59000000e+02 1.91000000e+02\n",
            " 1.56000000e+02 4.42000000e+02 2.34900000e+03 1.40000000e+01\n",
            " 9.90000000e+01 4.00000000e+00 2.40000000e+01 2.00000000e+01\n",
            " 3.10000000e+01 1.30000000e+01 1.10000000e+01 7.93000000e+02\n",
            " 1.65000000e+02 4.70000000e+01 1.00000000e+01 1.24910000e+04\n",
            " 1.50000000e+01 4.40000000e+01 4.60000000e+01 3.48000000e+02\n",
            " 3.15000000e+02 6.00000000e+01 1.20000000e+01 9.30000000e+01\n",
            " 2.00000000e+00 1.98000000e+02 8.00000000e+00 6.00000000e+01\n",
            " 4.00000000e+00 5.90000000e+01 5.80000000e+01 5.30000000e+01\n",
            " 3.20000000e+01 2.68900000e+03 2.50000000e+01 6.50000000e+01\n",
            " 4.40000000e+02 1.51500000e+03 6.00000000e+01 2.18000000e+02\n",
            " 8.60000000e+01 2.43000000e+02 1.99000000e+03 1.60000000e+01\n",
            " 4.16000000e+02 2.20000000e+01 4.20000000e+01 3.98000000e+02\n",
            " 1.13000000e+02 5.30000000e+01 8.10000000e+01 1.52000000e+02\n",
            " 1.52000000e+02 3.60000000e+01 3.10000000e+02 1.40000000e+01\n",
            " 7.15000000e+02 8.00000000e+00 1.04000000e+02 4.10000000e+01\n",
            " 9.90000000e+01 3.07000000e+02 1.31000000e+02 1.68000000e+02\n",
            " 1.65000000e+02 3.73000000e+02 3.00000000e+02 6.60000000e+01\n",
            " 1.25000000e+02 1.47000000e+02 3.10000000e+01 1.73000000e+02\n",
            " 2.88000000e+02 1.02700000e+03 8.90000000e+01 1.00000000e+00\n",
            " 6.04000000e+02 3.13000000e+02 5.30000000e+01 1.62000000e+02\n",
            " 2.76000000e+02 7.20000000e+01 4.40000000e+01 9.00000000e+01\n",
            " 5.00000000e+01 3.30000000e+01 3.20000000e+01 2.08000000e+02\n",
            " 9.33000000e+02 1.60000000e+01 4.63000000e+02 3.46000000e+02\n",
            " 1.05100000e+03 2.51000000e+02 1.62000000e+02 3.43000000e+02\n",
            " 9.00000000e+00 6.20000000e+01 5.00000000e+00 3.43000000e+02\n",
            " 4.92000000e+02 6.86000000e+02 6.40000000e+01 2.90000000e+01\n",
            " 2.60000000e+01 2.00000000e+01 2.30300000e+03 5.78000000e+02\n",
            " 1.00000000e+00 4.20000000e+01 2.13000000e+02 2.10000000e+01\n",
            " 3.80000000e+01 6.72000000e+02 1.16700000e+03 1.61000000e+02\n",
            " 1.00000000e+01 2.25000000e+02 8.10000000e+01 3.40000000e+02\n",
            " 9.58000000e+02 3.79000000e+02 3.90000000e+01 3.30000000e+01\n",
            " 3.80000000e+01 1.12000000e+02 1.10000000e+02 1.98000000e+02\n",
            " 1.12000000e+02 1.20000000e+01 1.80000000e+02 1.28000000e+02\n",
            " 1.35300000e+03 2.30000000e+01 1.14000000e+03 9.49000000e+02\n",
            " 3.16000000e+02 2.00000000e+00 2.20000000e+02 9.80000000e+01\n",
            " 1.60000000e+01 6.87000000e+02 1.03000000e+02 5.33000000e+02\n",
            " 5.10000000e+01 3.20000000e+01 3.41000000e+02 5.47000000e+02\n",
            " 8.70000000e+01 8.40000000e+01 1.34000000e+02 2.06000000e+02\n",
            " 1.30000000e+02 4.60000000e+01 1.80000000e+01 1.18000000e+02\n",
            " 6.49000000e+02 3.37000000e+02 5.80000000e+01 1.64000000e+02\n",
            " 1.79000000e+02 6.10000000e+01 1.92000000e+02 2.10000000e+01\n",
            " 1.58000000e+02 1.81000000e+02 1.14075976e-13 4.02000000e+02\n",
            " 1.30000000e+01 1.35000000e+02 4.10000000e+02 1.14000000e+02\n",
            " 1.39000000e+02 1.01000000e+02 1.90000000e+01 8.52000000e+02\n",
            " 1.37000000e+02 1.14000000e+02 4.50000000e+01 2.76000000e+02\n",
            " 1.50000000e+01 9.00000000e+00 3.20000000e+01 1.08000000e+02\n",
            " 7.40000000e+01 2.26000000e+02 1.43600000e+03 3.34000000e+02\n",
            " 1.14060760e-13 1.04000000e+03 1.35300000e+03 7.70000000e+01\n",
            " 8.06000000e+02 2.00000000e+02 1.39100000e+03 4.71000000e+02\n",
            " 1.41971000e+05 6.40000000e+01 2.80700000e+03 4.89000000e+02\n",
            " 3.41000000e+02 8.00000000e+00 6.80000000e+01 2.30000000e+02\n",
            " 5.90000000e+01 1.11000000e+02 5.86000000e+02 1.00000000e+00\n",
            " 3.25000000e+02 3.97000000e+02 2.08000000e+02 5.40000000e+01\n",
            " 3.90000000e+01 5.93000000e+02 4.34000000e+02 3.11000000e+02\n",
            " 3.17000000e+02 3.46000000e+02 1.00000000e+01 2.43000000e+02\n",
            " 6.30000000e+02 1.99000000e+02 1.30000000e+01 1.90000000e+01\n",
            " 7.30000000e+01 4.10000000e+01 2.48000000e+02 1.47000000e+02\n",
            " 1.72000000e+02 1.11000000e+02 9.90000000e+01 1.90000000e+01\n",
            " 1.20000000e+01 1.06000000e+02 4.83000000e+02 2.20000000e+01\n",
            " 1.13980535e-13 5.72000000e+02 3.10000000e+01 2.84000000e+02\n",
            " 8.00000000e+00 1.90000000e+02 7.87000000e+02 1.33900000e+03\n",
            " 3.30000000e+01 5.70000000e+01 4.10000000e+01 5.67000000e+02\n",
            " 3.00000000e+01 1.59000000e+02 4.20000000e+01 9.22000000e+02\n",
            " 1.00510000e+04 2.71000000e+02 6.62000000e+02 6.00000000e+01\n",
            " 8.29000000e+02 8.80000000e+01 7.10000000e+01 1.55000000e+02\n",
            " 1.80000000e+01 1.50000000e+02 6.42000000e+02 3.19000000e+02\n",
            " 1.84000000e+02 2.80000000e+03 9.70000000e+01 1.13887862e-13\n",
            " 1.26000000e+02 2.92000000e+02 6.20000000e+01 8.00000000e+01\n",
            " 4.10000000e+01 1.50000000e+01 3.70000000e+01 1.14018112e-13\n",
            " 1.85000000e+02 1.00000000e+01 5.80000000e+01 2.40000000e+01\n",
            " 1.86000000e+02 1.02000000e+03 1.18000000e+02 1.14000000e+02\n",
            " 3.43000000e+02 4.04000000e+02 2.40000000e+01 4.70000000e+01\n",
            " 1.07000000e+02 6.00000000e+01 6.47300000e+03 1.10000000e+02\n",
            " 9.40000000e+01 3.15000000e+02 1.09900000e+03 1.98500000e+03\n",
            " 6.60000000e+01 3.50000000e+01 8.30000000e+01 1.13828615e-13\n",
            " 4.37000000e+02 2.52800000e+03 5.71000000e+02 1.42000000e+02\n",
            " 7.67000000e+02 6.80000000e+01 7.80000000e+01 5.80000000e+01\n",
            " 5.90000000e+01 1.94000000e+02 1.16500000e+03 2.42000000e+02\n",
            " 9.20000000e+01 5.40000000e+01 4.69000000e+02 2.50000000e+01\n",
            " 1.64000000e+02 4.40000000e+01 8.96000000e+02 6.20000000e+01\n",
            " 1.23200000e+03 3.60000000e+01 7.70000000e+01 5.41000000e+02\n",
            " 1.70000000e+01 5.80000000e+01 2.36800000e+03 3.34000000e+02\n",
            " 1.13686838e-13 1.13686838e-13 1.13686838e-13]\n"
          ],
          "name": "stdout"
        },
        {
          "output_type": "error",
          "ename": "TypeError",
          "evalue": "ignored",
          "traceback": [
            "\u001b[0;31m---------------------------------------------------------------------------\u001b[0m",
            "\u001b[0;31mTypeError\u001b[0m                                 Traceback (most recent call last)",
            "\u001b[0;32m<ipython-input-71-84e48f3a953c>\u001b[0m in \u001b[0;36m<module>\u001b[0;34m()\u001b[0m\n\u001b[1;32m      1\u001b[0m \u001b[0mpredictions\u001b[0m \u001b[0;34m=\u001b[0m \u001b[0mlm\u001b[0m\u001b[0;34m.\u001b[0m\u001b[0mpredict\u001b[0m\u001b[0;34m(\u001b[0m\u001b[0mx\u001b[0m\u001b[0;34m)\u001b[0m\u001b[0;34m\u001b[0m\u001b[0;34m\u001b[0m\u001b[0m\n\u001b[0;32m----> 2\u001b[0;31m \u001b[0mprint\u001b[0m\u001b[0;34m(\u001b[0m\u001b[0mpredictions\u001b[0m\u001b[0;34m)\u001b[0m\u001b[0;34m[\u001b[0m\u001b[0;36m0\u001b[0m\u001b[0;34m:\u001b[0m\u001b[0;36m5\u001b[0m\u001b[0;34m]\u001b[0m\u001b[0;34m\u001b[0m\u001b[0;34m\u001b[0m\u001b[0m\n\u001b[0m",
            "\u001b[0;31mTypeError\u001b[0m: 'NoneType' object is not subscriptable"
          ]
        }
      ]
    },
    {
      "cell_type": "code",
      "metadata": {
        "id": "Dv8iUJvpItco",
        "colab_type": "code",
        "outputId": "8e711f13-1654-4986-880e-06ffb8eddea4",
        "colab": {
          "base_uri": "https://localhost:8080/",
          "height": 35
        }
      },
      "source": [
        "# gives R sqr\n",
        "\n",
        "lm.score(x,y)"
      ],
      "execution_count": 0,
      "outputs": [
        {
          "output_type": "execute_result",
          "data": {
            "text/plain": [
              "1.0"
            ]
          },
          "metadata": {
            "tags": []
          },
          "execution_count": 72
        }
      ]
    },
    {
      "cell_type": "code",
      "metadata": {
        "id": "_VGgLrjVI87U",
        "colab_type": "code",
        "outputId": "51198cd7-9de8-4f17-d8d9-978a345ed095",
        "colab": {
          "base_uri": "https://localhost:8080/",
          "height": 91
        }
      },
      "source": [
        "lm.coef_"
      ],
      "execution_count": 0,
      "outputs": [
        {
          "output_type": "execute_result",
          "data": {
            "text/plain": [
              "array([ 2.30531918e-19,  9.21485110e-15,  3.23864199e-14, -2.77555756e-17,\n",
              "       -4.23315896e-15, -9.27036226e-15, -9.64506253e-15,  7.50000000e-01,\n",
              "        2.50000000e-01,  2.50000000e-01,  2.50000000e-01, -2.73682444e-15])"
            ]
          },
          "metadata": {
            "tags": []
          },
          "execution_count": 73
        }
      ]
    },
    {
      "cell_type": "code",
      "metadata": {
        "id": "SUNagW1MJJto",
        "colab_type": "code",
        "outputId": "0c5c80d9-afe9-4611-9e10-5293ea5155af",
        "colab": {
          "base_uri": "https://localhost:8080/",
          "height": 35
        }
      },
      "source": [
        "lm.intercept_"
      ],
      "execution_count": 0,
      "outputs": [
        {
          "output_type": "execute_result",
          "data": {
            "text/plain": [
              "1.1368683772161603e-13"
            ]
          },
          "metadata": {
            "tags": []
          },
          "execution_count": 74
        }
      ]
    },
    {
      "cell_type": "code",
      "metadata": {
        "id": "KmU1IDDMJOgp",
        "colab_type": "code",
        "colab": {}
      },
      "source": [
        ""
      ],
      "execution_count": 0,
      "outputs": []
    }
  ]
}