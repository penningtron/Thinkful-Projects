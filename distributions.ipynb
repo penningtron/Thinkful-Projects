{
 "cells": [
  {
   "cell_type": "code",
   "execution_count": 2,
   "metadata": {},
   "outputs": [],
   "source": [
    "import numpy as np\n",
    "import pandas as pd\n",
    "import matplotlib.pyplot as plt\n",
    "%matplotlib inline\n"
   ]
  },
  {
   "cell_type": "code",
   "execution_count": 3,
   "metadata": {},
   "outputs": [
    {
     "data": {
      "image/png": "[encoded data removed]",
      "text/plain": [
       "<Figure size 432x288 with 1 Axes>"
      ]
     },
     "metadata": {
      "needs_background": "light"
     },
     "output_type": "display_data"
    },
    {
     "data": {
      "text/plain": [
       "'\\nThe binomial distribution shows the number of successes in a sequence \\nof independent experiments. A single experiment is known as a Bernoulli trial.\\n\\nCould be usefully described by the mean.\\n\\n'"
      ]
     },
     "execution_count": 3,
     "metadata": {},
     "output_type": "execute_result"
    }
   ],
   "source": [
    "binomial = np.random.binomial(65, 0.5, 100)\n",
    "plt.hist(binomial)\n",
    "\n",
    "# Add a vertical line at the mean.\n",
    "plt.axvline(binomial.mean(), color='b', linestyle='solid', linewidth=2)\n",
    "\n",
    "# Add a vertical line at one standard deviation above the mean.\n",
    "plt.axvline(binomial.mean() + binomial.std(), color='b', linestyle='dashed', linewidth=2)\n",
    "\n",
    "# Add a vertical line at one standard deviation below the mean.\n",
    "plt.axvline(binomial.mean()-binomial.std(), color='b', linestyle='dashed', linewidth=2) \n",
    "\n",
    "\n",
    "plt.show()\n",
    "\n",
    "'''\n",
    "The binomial distribution shows the number of successes in a sequence \n",
    "of independent experiments. A single experiment is known as a Bernoulli trial.\n",
    "\n",
    "Could be usefully described by the mean.\n",
    "\n",
    "'''"
   ]
  },
  {
   "cell_type": "code",
   "execution_count": 4,
   "metadata": {},
   "outputs": [
    {
     "data": {
      "image/png": "[encoded data removed]",
      "text/plain": [
       "<Figure size 432x288 with 1 Axes>"
      ]
     },
     "metadata": {
      "needs_background": "light"
     },
     "output_type": "display_data"
    },
    {
     "data": {
      "text/plain": [
       "'\\nGeometric distribution resembles the power distribution. \\nCould not be described usefully using the mean.\\n'"
      ]
     },
     "execution_count": 4,
     "metadata": {},
     "output_type": "execute_result"
    }
   ],
   "source": [
    "geometric = np.random.geometric(p=.01, size=100)\n",
    "plt.hist(geometric)\n",
    "\n",
    "# Add a vertical line at the mean.\n",
    "plt.axvline(geometric.mean(), color='b', linestyle='solid', linewidth=2)\n",
    "\n",
    "# Add a vertical line at one standard deviation above the mean.\n",
    "plt.axvline(geometric.mean() + geometric.std(), color='b', linestyle='dashed', linewidth=2)\n",
    "\n",
    "# Add a vertical line at one standard deviation below the mean.\n",
    "plt.axvline(geometric.mean()-geometric.std(), color='b', linestyle='dashed', linewidth=2) \n",
    "\n",
    "\n",
    "plt.show()\n",
    "\n",
    "'''\n",
    "Geometric distribution resembles the power distribution. \n",
    "Could not be described usefully using the mean.\n",
    "'''"
   ]
  },
  {
   "cell_type": "code",
   "execution_count": 5,
   "metadata": {},
   "outputs": [
    {
     "data": {
      "image/png": "[encoded data removed]",
      "text/plain": [
       "<Figure size 432x288 with 1 Axes>"
      ]
     },
     "metadata": {
      "needs_background": "light"
     },
     "output_type": "display_data"
    },
    {
     "data": {
      "text/plain": [
       "'\\nThe Poisson distribution is popular for modeling the number of times an event occurs in an \\ninterval of time or space.\\n\\nCould be described using the mean.\\n\\n'"
      ]
     },
     "execution_count": 5,
     "metadata": {},
     "output_type": "execute_result"
    }
   ],
   "source": [
    "poisson = np.random.poisson(5, 100)\n",
    "plt.hist(poisson)\n",
    "\n",
    "# Add a vertical line at the mean.\n",
    "plt.axvline(poisson.mean(), color='b', linestyle='solid', linewidth=2)\n",
    "\n",
    "# Add a vertical line at one standard deviation above the mean.\n",
    "plt.axvline(poisson.mean() + poisson.std(), color='b', linestyle='dashed', linewidth=2)\n",
    "\n",
    "# Add a vertical line at one standard deviation below the mean.\n",
    "plt.axvline(poisson.mean()-poisson.std(), color='b', linestyle='dashed', linewidth=2) \n",
    "\n",
    "\n",
    "plt.show()\n",
    "\n",
    "\n",
    "'''\n",
    "The Poisson distribution is popular for modeling the number of times an event occurs in an \n",
    "interval of time or space.\n",
    "\n",
    "Could be described using the mean.\n",
    "\n",
    "'''"
   ]
  },
  {
   "cell_type": "code",
   "execution_count": 6,
   "metadata": {},
   "outputs": [
    {
     "data": {
      "image/png": "[encoded data removed]",
      "text/plain": [
       "<Figure size 432x288 with 1 Axes>"
      ]
     },
     "metadata": {
      "needs_background": "light"
     },
     "output_type": "display_data"
    },
    {
     "data": {
      "text/plain": [
       "'\\ndiscrete uniform distribution is a symmetric probability distribution \\nwhereby a finite number of values are equally likely to be observed.\\n\\nAn example would be rolling a fair dice.\\n\\nNot usefully described by mean.\\n'"
      ]
     },
     "execution_count": 6,
     "metadata": {},
     "output_type": "execute_result"
    }
   ],
   "source": [
    "uniform = np.random.uniform(low=0.0, high=2.0, size=100)\n",
    "plt.hist(uniform)\n",
    "\n",
    "# Add a vertical line at the mean.\n",
    "plt.axvline(uniform.mean(), color='b', linestyle='solid', linewidth=2)\n",
    "\n",
    "# Add a vertical line at one standard deviation above the mean.\n",
    "plt.axvline(uniform.mean() + uniform.std(), color='b', linestyle='dashed', linewidth=2)\n",
    "\n",
    "# Add a vertical line at one standard deviation below the mean.\n",
    "plt.axvline(uniform.mean()-uniform.std(), color='b', linestyle='dashed', linewidth=2) \n",
    "\n",
    "\n",
    "plt.show()\n",
    "\n",
    "'''\n",
    "discrete uniform distribution is a symmetric probability distribution \n",
    "whereby a finite number of values are equally likely to be observed.\n",
    "\n",
    "An example would be rolling a fair dice.\n",
    "\n",
    "Not usefully described by mean.\n",
    "'''"
   ]
  },
  {
   "cell_type": "code",
   "execution_count": 7,
   "metadata": {},
   "outputs": [
    {
     "data": {
      "image/png": "[encoded data removed]",
      "text/plain": [
       "<Figure size 432x288 with 1 Axes>"
      ]
     },
     "metadata": {
      "needs_background": "light"
     },
     "output_type": "display_data"
    },
    {
     "data": {
      "text/plain": [
       "'\\nLogistic distrubution could be described by the mean.\\n'"
      ]
     },
     "execution_count": 7,
     "metadata": {},
     "output_type": "execute_result"
    }
   ],
   "source": [
    "logistic = np.random.logistic(loc=0.0, scale=10.0, size=100)\n",
    "plt.hist(logistic)\n",
    "\n",
    "# Add a vertical line at the mean.\n",
    "plt.axvline(logistic.mean(), color='b', linestyle='solid', linewidth=2)\n",
    "\n",
    "# Add a vertical line at one standard deviation above the mean.\n",
    "plt.axvline(logistic.mean() + logistic.std(), color='b', linestyle='dashed', linewidth=2)\n",
    "\n",
    "# Add a vertical line at one standard deviation below the mean.\n",
    "plt.axvline(logistic.mean()-logistic.std(), color='b', linestyle='dashed', linewidth=2) \n",
    "\n",
    "\n",
    "plt.show()\n",
    "\n",
    "'''\n",
    "Logistic distrubution could be described by the mean.\n",
    "'''"
   ]
  },
  {
   "cell_type": "code",
   "execution_count": 8,
   "metadata": {},
   "outputs": [
    {
     "data": {
      "image/png": "[encoded data removed]",
      "text/plain": [
       "<Figure size 432x288 with 1 Axes>"
      ]
     },
     "metadata": {
      "needs_background": "light"
     },
     "output_type": "display_data"
    },
    {
     "data": {
      "text/plain": [
       "'\\nCould be usefully described by mean.\\n'"
      ]
     },
     "execution_count": 8,
     "metadata": {},
     "output_type": "execute_result"
    }
   ],
   "source": [
    "power = np.random.power(5, size=100)\n",
    "plt.hist(power)\n",
    "\n",
    "# Add a vertical line at the mean.\n",
    "plt.axvline(power.mean(), color='b', linestyle='solid', linewidth=2)\n",
    "\n",
    "# Add a vertical line at one standard deviation above the mean.\n",
    "plt.axvline(power.mean() + power.std(), color='b', linestyle='dashed', linewidth=2)\n",
    "\n",
    "# Add a vertical line at one standard deviation below the mean.\n",
    "plt.axvline(power.mean()-power.std(), color='b', linestyle='dashed', linewidth=2) \n",
    "\n",
    "\n",
    "plt.show()\n",
    "\n",
    "'''\n",
    "Could be usefully described by mean.\n",
    "'''"
   ]
  },
  {
   "cell_type": "code",
   "execution_count": 15,
   "metadata": {},
   "outputs": [
    {
     "data": {
      "image/png": "[encoded data removed]",
      "text/plain": [
       "<Figure size 432x288 with 1 Axes>"
      ]
     },
     "metadata": {
      "needs_background": "light"
     },
     "output_type": "display_data"
    }
   ],
   "source": [
    "var1 = np.random.normal(5,.5, 100)\n",
    "var2 = np.random.normal(10,1, 100)\n",
    "var3 = var1+var2\n",
    "\n",
    "mean = np.mean(var3)\n",
    "sd = np.std(var3)\n",
    "\n",
    "plt.hist(var3)\n",
    "plt.axvline(x=mean,color='cyan')\n",
    "plt.axvline(x=mean+sd, color='cyan', linestyle='dashed')\n",
    "plt.axvline(x=mean-sd, color='cyan', linestyle='dashed')\n",
    "plt.show()\n",
    "\n",
    "'''\n",
    "Shows some skew.\n",
    "\n",
    "'''"
   ]
  },
  {
   "cell_type": "code",
   "execution_count": null,
   "metadata": {},
   "outputs": [],
   "source": []
  }
 ],
 "metadata": {
  "kernelspec": {
   "display_name": "Python 3",
   "language": "python",
   "name": "python3"
  },
  "language_info": {
   "codemirror_mode": {
    "name": "ipython",
    "version": 3
   },
   "file_extension": ".py",
   "mimetype": "text/x-python",
   "name": "python",
   "nbconvert_exporter": "python",
   "pygments_lexer": "ipython3",
   "version": "3.7.1"
  }
 },
 "nbformat": 4,
 "nbformat_minor": 2
}
