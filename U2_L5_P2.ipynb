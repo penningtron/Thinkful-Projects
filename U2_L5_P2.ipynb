{
  "nbformat": 4,
  "nbformat_minor": 0,
  "metadata": {
    "colab": {
      "name": "U2_L5_P2.ipynb",
      "version": "0.3.2",
      "provenance": [],
      "collapsed_sections": []
    },
    "kernelspec": {
      "name": "python3",
      "display_name": "Python 3"
    }
  },
  "cells": [
    {
      "cell_type": "code",
      "metadata": {
        "id": "dwFy6ppl_tCh",
        "colab_type": "code",
        "colab": {}
      },
      "source": [
        "%matplotlib inline\n",
        "import numpy as np\n",
        "import pandas as pd\n",
        "import scipy\n",
        "import sklearn\n",
        "import matplotlib.pyplot as plt\n",
        "import seaborn as sns\n",
        "sns.set(style='whitegrid')\n",
        "from sklearn import preprocessing\n",
        "from sklearn.model_selection import train_test_split\n",
        "from sklearn import datasets, linear_model"
      ],
      "execution_count": 0,
      "outputs": []
    },
    {
      "cell_type": "markdown",
      "metadata": {
        "id": "DPbYIltLCEel",
        "colab_type": "text"
      },
      "source": [
        ""
      ]
    },
    {
      "cell_type": "code",
      "metadata": {
        "id": "OA0nTiom_vWK",
        "colab_type": "code",
        "colab": {}
      },
      "source": [
        "df_2013 = pd.read_excel('/content/drive/My Drive/DATA SCIENCE/table_8_offenses_known_to_law_enforcement_new_york_by_city_2013.xls',\n",
        "                  header= 3)\n",
        "df_2014 = pd.read_excel('/content/drive/My Drive/DATA SCIENCE/Table_8_Offenses_Known_to_Law_Enforcement_by_New_York_by_City_2014.xls',\n",
        "                       header=3)"
      ],
      "execution_count": 0,
      "outputs": []
    },
    {
      "cell_type": "code",
      "metadata": {
        "id": "DzkvNIL1AAwg",
        "colab_type": "code",
        "colab": {}
      },
      "source": [
        "df_2013 = df_2013.drop([0,0])\n",
        "\n",
        "\n",
        "\n",
        "df_2013 = df_2013.fillna(0)\n",
        "df_2013 = df_2013.rename(columns={'by City, 2013':'city',\n",
        "                       'Unnamed: 1':'population', \n",
        "                       'Unnamed: 2':'violent_crime', \n",
        "                       'Unnamed: 3':'murder', \n",
        "                       'Unnamed: 4':'rape_def1', \n",
        "                       'Unnamed: 5':'rape_def2', \n",
        "                       'Unnamed: 6':'robbery', \n",
        "                       'Unnamed: 7':'aggravated_assault', \n",
        "                       'Unnamed: 8':'property_crime', \n",
        "                       'Unnamed: 9':'burglary', \n",
        "                       'Unnamed: 10':'larceny_theft',\n",
        "                       'Unnamed: 11':'motor_theft',\n",
        "                       'Unnamed: 12':'arson',\n",
        "                       })\n",
        "\n",
        "df_2014 = df_2014.drop([0,0])\n",
        "\n",
        "\n",
        "\n",
        "df_2014 = df_2014.fillna(0)\n",
        "df_2014 = df_2014.rename(columns={'by City, 2014':'city',\n",
        "                       'Unnamed: 1':'population', \n",
        "                       'Unnamed: 2':'violent_crime', \n",
        "                       'Unnamed: 3':'murder', \n",
        "                       'Unnamed: 4':'rape_def1', \n",
        "                       'Unnamed: 5':'rape_def2', \n",
        "                       'Unnamed: 6':'robbery', \n",
        "                       'Unnamed: 7':'aggravated_assault', \n",
        "                       'Unnamed: 8':'property_crime', \n",
        "                       'Unnamed: 9':'burglary', \n",
        "                       'Unnamed: 10':'larceny_theft',\n",
        "                       'Unnamed: 11':'motor_theft',\n",
        "                       'Unnamed: 12':'arson',\n",
        "                       })\n",
        "\n",
        "\n",
        "\n"
      ],
      "execution_count": 0,
      "outputs": []
    },
    {
      "cell_type": "code",
      "metadata": {
        "id": "3mpVTfhSG4Cy",
        "colab_type": "code",
        "outputId": "854e8d5a-f71d-418c-c376-414b94df8911",
        "colab": {
          "base_uri": "https://localhost:8080/",
          "height": 224
        }
      },
      "source": [
        "df_2013_nocity = df_2013.drop(columns=['city'])\n",
        "\n",
        "df_2013_nocity.head(5)\n",
        "\n",
        "df_2014_nocity = df_2014.drop(columns=['city'])\n",
        "\n",
        "df_2014_nocity.head(5)"
      ],
      "execution_count": 11,
      "outputs": [
        {
          "output_type": "execute_result",
          "data": {
            "text/html": [
              "<div>\n",
              "<style scoped>\n",
              "    .dataframe tbody tr th:only-of-type {\n",
              "        vertical-align: middle;\n",
              "    }\n",
              "\n",
              "    .dataframe tbody tr th {\n",
              "        vertical-align: top;\n",
              "    }\n",
              "\n",
              "    .dataframe thead th {\n",
              "        text-align: right;\n",
              "    }\n",
              "</style>\n",
              "<table border=\"1\" class=\"dataframe\">\n",
              "  <thead>\n",
              "    <tr style=\"text-align: right;\">\n",
              "      <th></th>\n",
              "      <th>population</th>\n",
              "      <th>violent_crime</th>\n",
              "      <th>murder</th>\n",
              "      <th>rape_def1</th>\n",
              "      <th>rape_def2</th>\n",
              "      <th>robbery</th>\n",
              "      <th>aggravated_assault</th>\n",
              "      <th>property_crime</th>\n",
              "      <th>burglary</th>\n",
              "      <th>larceny_theft</th>\n",
              "      <th>motor_theft</th>\n",
              "      <th>arson</th>\n",
              "    </tr>\n",
              "  </thead>\n",
              "  <tbody>\n",
              "    <tr>\n",
              "      <th>1</th>\n",
              "      <td>1851</td>\n",
              "      <td>0</td>\n",
              "      <td>0</td>\n",
              "      <td>0</td>\n",
              "      <td>0</td>\n",
              "      <td>0</td>\n",
              "      <td>0</td>\n",
              "      <td>11</td>\n",
              "      <td>1</td>\n",
              "      <td>10</td>\n",
              "      <td>0</td>\n",
              "      <td>0</td>\n",
              "    </tr>\n",
              "    <tr>\n",
              "      <th>2</th>\n",
              "      <td>2568</td>\n",
              "      <td>2</td>\n",
              "      <td>0</td>\n",
              "      <td>0</td>\n",
              "      <td>0</td>\n",
              "      <td>1</td>\n",
              "      <td>1</td>\n",
              "      <td>49</td>\n",
              "      <td>1</td>\n",
              "      <td>47</td>\n",
              "      <td>1</td>\n",
              "      <td>0</td>\n",
              "    </tr>\n",
              "    <tr>\n",
              "      <th>3</th>\n",
              "      <td>820</td>\n",
              "      <td>0</td>\n",
              "      <td>0</td>\n",
              "      <td>0</td>\n",
              "      <td>0</td>\n",
              "      <td>0</td>\n",
              "      <td>0</td>\n",
              "      <td>1</td>\n",
              "      <td>0</td>\n",
              "      <td>1</td>\n",
              "      <td>0</td>\n",
              "      <td>0</td>\n",
              "    </tr>\n",
              "    <tr>\n",
              "      <th>4</th>\n",
              "      <td>2842</td>\n",
              "      <td>1</td>\n",
              "      <td>0</td>\n",
              "      <td>0</td>\n",
              "      <td>0</td>\n",
              "      <td>0</td>\n",
              "      <td>1</td>\n",
              "      <td>17</td>\n",
              "      <td>0</td>\n",
              "      <td>17</td>\n",
              "      <td>0</td>\n",
              "      <td>0</td>\n",
              "    </tr>\n",
              "    <tr>\n",
              "      <th>5</th>\n",
              "      <td>98595</td>\n",
              "      <td>802</td>\n",
              "      <td>8</td>\n",
              "      <td>54</td>\n",
              "      <td>0</td>\n",
              "      <td>237</td>\n",
              "      <td>503</td>\n",
              "      <td>3888</td>\n",
              "      <td>683</td>\n",
              "      <td>3083</td>\n",
              "      <td>122</td>\n",
              "      <td>12</td>\n",
              "    </tr>\n",
              "  </tbody>\n",
              "</table>\n",
              "</div>"
            ],
            "text/plain": [
              "   population  violent_crime  murder  ...  larceny_theft  motor_theft  arson\n",
              "1        1851              0       0  ...             10            0      0\n",
              "2        2568              2       0  ...             47            1      0\n",
              "3         820              0       0  ...              1            0      0\n",
              "4        2842              1       0  ...             17            0      0\n",
              "5       98595            802       8  ...           3083          122     12\n",
              "\n",
              "[5 rows x 12 columns]"
            ]
          },
          "metadata": {
            "tags": []
          },
          "execution_count": 11
        }
      ]
    },
    {
      "cell_type": "code",
      "metadata": {
        "id": "DxKVdvLKagVh",
        "colab_type": "code",
        "outputId": "db92bb4e-0032-4a0a-c39a-af9c5cd7848d",
        "colab": {
          "base_uri": "https://localhost:8080/",
          "height": 224
        }
      },
      "source": [
        "df_2013_nocity.head(5)"
      ],
      "execution_count": 12,
      "outputs": [
        {
          "output_type": "execute_result",
          "data": {
            "text/html": [
              "<div>\n",
              "<style scoped>\n",
              "    .dataframe tbody tr th:only-of-type {\n",
              "        vertical-align: middle;\n",
              "    }\n",
              "\n",
              "    .dataframe tbody tr th {\n",
              "        vertical-align: top;\n",
              "    }\n",
              "\n",
              "    .dataframe thead th {\n",
              "        text-align: right;\n",
              "    }\n",
              "</style>\n",
              "<table border=\"1\" class=\"dataframe\">\n",
              "  <thead>\n",
              "    <tr style=\"text-align: right;\">\n",
              "      <th></th>\n",
              "      <th>population</th>\n",
              "      <th>violent_crime</th>\n",
              "      <th>murder</th>\n",
              "      <th>rape_def1</th>\n",
              "      <th>rape_def2</th>\n",
              "      <th>robbery</th>\n",
              "      <th>aggravated_assault</th>\n",
              "      <th>property_crime</th>\n",
              "      <th>burglary</th>\n",
              "      <th>larceny_theft</th>\n",
              "      <th>motor_theft</th>\n",
              "      <th>arson</th>\n",
              "    </tr>\n",
              "  </thead>\n",
              "  <tbody>\n",
              "    <tr>\n",
              "      <th>1</th>\n",
              "      <td>1861</td>\n",
              "      <td>0</td>\n",
              "      <td>0</td>\n",
              "      <td>0</td>\n",
              "      <td>0</td>\n",
              "      <td>0</td>\n",
              "      <td>0</td>\n",
              "      <td>12</td>\n",
              "      <td>2</td>\n",
              "      <td>10</td>\n",
              "      <td>0</td>\n",
              "      <td>0</td>\n",
              "    </tr>\n",
              "    <tr>\n",
              "      <th>2</th>\n",
              "      <td>2577</td>\n",
              "      <td>3</td>\n",
              "      <td>0</td>\n",
              "      <td>0</td>\n",
              "      <td>0</td>\n",
              "      <td>0</td>\n",
              "      <td>3</td>\n",
              "      <td>24</td>\n",
              "      <td>3</td>\n",
              "      <td>20</td>\n",
              "      <td>1</td>\n",
              "      <td>0</td>\n",
              "    </tr>\n",
              "    <tr>\n",
              "      <th>3</th>\n",
              "      <td>2846</td>\n",
              "      <td>3</td>\n",
              "      <td>0</td>\n",
              "      <td>0</td>\n",
              "      <td>0</td>\n",
              "      <td>0</td>\n",
              "      <td>3</td>\n",
              "      <td>16</td>\n",
              "      <td>1</td>\n",
              "      <td>15</td>\n",
              "      <td>0</td>\n",
              "      <td>0</td>\n",
              "    </tr>\n",
              "    <tr>\n",
              "      <th>4</th>\n",
              "      <td>97956</td>\n",
              "      <td>791</td>\n",
              "      <td>8</td>\n",
              "      <td>0</td>\n",
              "      <td>30</td>\n",
              "      <td>227</td>\n",
              "      <td>526</td>\n",
              "      <td>4090</td>\n",
              "      <td>705</td>\n",
              "      <td>3243</td>\n",
              "      <td>142</td>\n",
              "      <td>0</td>\n",
              "    </tr>\n",
              "    <tr>\n",
              "      <th>5</th>\n",
              "      <td>6388</td>\n",
              "      <td>23</td>\n",
              "      <td>0</td>\n",
              "      <td>0</td>\n",
              "      <td>3</td>\n",
              "      <td>4</td>\n",
              "      <td>16</td>\n",
              "      <td>223</td>\n",
              "      <td>53</td>\n",
              "      <td>165</td>\n",
              "      <td>5</td>\n",
              "      <td>0</td>\n",
              "    </tr>\n",
              "  </tbody>\n",
              "</table>\n",
              "</div>"
            ],
            "text/plain": [
              "   population  violent_crime  murder  ...  larceny_theft  motor_theft  arson\n",
              "1        1861              0       0  ...             10            0      0\n",
              "2        2577              3       0  ...             20            1      0\n",
              "3        2846              3       0  ...             15            0      0\n",
              "4       97956            791       8  ...           3243          142      0\n",
              "5        6388             23       0  ...            165            5      0\n",
              "\n",
              "[5 rows x 12 columns]"
            ]
          },
          "metadata": {
            "tags": []
          },
          "execution_count": 12
        }
      ]
    },
    {
      "cell_type": "code",
      "metadata": {
        "id": "VCEV3V_HQ0vy",
        "colab_type": "code",
        "colab": {}
      },
      "source": [
        ""
      ],
      "execution_count": 0,
      "outputs": []
    },
    {
      "cell_type": "code",
      "metadata": {
        "id": "aq9iVCz8AVZm",
        "colab_type": "code",
        "outputId": "41178d05-b429-42a0-82ab-d641d0ec9576",
        "colab": {
          "base_uri": "https://localhost:8080/",
          "height": 287
        }
      },
      "source": [
        "\n",
        "\n",
        "#encode robbery and murder and make new columns\n",
        "\n",
        "df_2013_nocity['robbery_enc'] = np.where(df_2013_nocity['robbery']>0,'1','0')\n",
        "df_2013_nocity['murder_enc'] = np.where(df_2013_nocity['murder']>0,'1','0')\n",
        "\n",
        "\n",
        "\n",
        "\n",
        "\n",
        "\n",
        "\n",
        "\n",
        "\n",
        "\n",
        "\n",
        "\n",
        "\n",
        "pop = df_2013_nocity['population']\n",
        "pop_sqr = pop * pop\n",
        "murder = df_2013_nocity['murder_enc']\n",
        "robbery = df_2013_nocity['robbery_enc']\n",
        "b = 0\n",
        "\n",
        "#property_crime = b + pop + pop_sqr + murder + robbery\n",
        "\n",
        "df_2013_nocity.astype('int32').dtypes\n",
        "\n",
        "df_2013_nocity.dtypes\n",
        "\n",
        "#df_2013_nocity['robbery_enc'].head(5)"
      ],
      "execution_count": 17,
      "outputs": [
        {
          "output_type": "execute_result",
          "data": {
            "text/plain": [
              "population             int64\n",
              "violent_crime          int64\n",
              "murder                 int64\n",
              "rape_def1              int64\n",
              "rape_def2              int64\n",
              "robbery                int64\n",
              "aggravated_assault     int64\n",
              "property_crime         int64\n",
              "burglary               int64\n",
              "larceny_theft          int64\n",
              "motor_theft            int64\n",
              "arson                  int64\n",
              "robbery_enc           object\n",
              "murder_enc            object\n",
              "dtype: object"
            ]
          },
          "metadata": {
            "tags": []
          },
          "execution_count": 17
        }
      ]
    },
    {
      "cell_type": "code",
      "metadata": {
        "id": "8qW3IZeVmpfZ",
        "colab_type": "code",
        "colab": {}
      },
      "source": [
        "x = df_2013_nocity\n",
        "y = df_2013_nocity['property_crime']"
      ],
      "execution_count": 0,
      "outputs": []
    },
    {
      "cell_type": "code",
      "metadata": {
        "id": "FK11v3F-bXpD",
        "colab_type": "code",
        "outputId": "f4e17c60-aa21-4dd3-af51-3462b03600de",
        "colab": {
          "base_uri": "https://localhost:8080/",
          "height": 53
        }
      },
      "source": [
        "x_train, x_test, y_train, y_test = train_test_split(x, y, test_size=0.2)\n",
        "print (x_train.shape, y_train.shape)\n",
        "print (x_test.shape, y_test.shape)"
      ],
      "execution_count": 0,
      "outputs": [
        {
          "output_type": "stream",
          "text": [
            "(280, 12) (280,)\n",
            "(71, 12) (71,)\n"
          ],
          "name": "stdout"
        }
      ]
    },
    {
      "cell_type": "code",
      "metadata": {
        "id": "KmU1IDDMJOgp",
        "colab_type": "code",
        "colab": {}
      },
      "source": [
        "lm = linear_model.LinearRegression()\n",
        "\n",
        "model = lm.fit(x_train, y_train)\n",
        "predictions = lm.predict(x_test)"
      ],
      "execution_count": 0,
      "outputs": []
    },
    {
      "cell_type": "code",
      "metadata": {
        "id": "ck0046nBpR6d",
        "colab_type": "code",
        "outputId": "71dbace3-4b65-41d6-b0e8-fc7a2d78d87e",
        "colab": {
          "base_uri": "https://localhost:8080/",
          "height": 35
        }
      },
      "source": [
        "predictions[0:5]"
      ],
      "execution_count": 0,
      "outputs": [
        {
          "output_type": "execute_result",
          "data": {
            "text/plain": [
              "array([125.,  31., 662.,  13.,  41.])"
            ]
          },
          "metadata": {
            "tags": []
          },
          "execution_count": 48
        }
      ]
    },
    {
      "cell_type": "code",
      "metadata": {
        "id": "eCT5TlNZrBDl",
        "colab_type": "code",
        "outputId": "d57de59a-c582-4747-db48-1784b61ca949",
        "colab": {
          "base_uri": "https://localhost:8080/",
          "height": 309
        }
      },
      "source": [
        "# 2013 plot\n",
        "plt.scatter(y_test, predictions)\n",
        "plt.xlabel('True Values')\n",
        "plt.ylabel('Predictions')"
      ],
      "execution_count": 0,
      "outputs": [
        {
          "output_type": "execute_result",
          "data": {
            "text/plain": [
              "Text(0, 0.5, 'Predictions')"
            ]
          },
          "metadata": {
            "tags": []
          },
          "execution_count": 49
        },
        {
          "output_type": "display_data",
          "data": {
            "image/png": "[encoded data removed]",
            "text/plain": [
              "<Figure size 432x288 with 1 Axes>"
            ]
          },
          "metadata": {
            "tags": []
          }
        }
      ]
    },
    {
      "cell_type": "code",
      "metadata": {
        "id": "yz0hnNpEs4yX",
        "colab_type": "code",
        "colab": {}
      },
      "source": [
        ""
      ],
      "execution_count": 0,
      "outputs": []
    },
    {
      "cell_type": "code",
      "metadata": {
        "colab_type": "code",
        "id": "aOg0oNN2wMK6",
        "colab": {}
      },
      "source": [
        "x = df_2014_nocity\n",
        "y = df_2014_nocity['property_crime']"
      ],
      "execution_count": 0,
      "outputs": []
    },
    {
      "cell_type": "code",
      "metadata": {
        "colab_type": "code",
        "outputId": "630d86c4-e178-4397-9949-da06f1c87f20",
        "id": "Mt6wbC7iwMLI",
        "colab": {
          "base_uri": "https://localhost:8080/",
          "height": 53
        }
      },
      "source": [
        "x_train, x_test, y_train, y_test = train_test_split(x, y, test_size=0.2)\n",
        "print (x_train.shape, y_train.shape)\n",
        "print (x_test.shape, y_test.shape)"
      ],
      "execution_count": 0,
      "outputs": [
        {
          "output_type": "stream",
          "text": [
            "(300, 12) (300,)\n",
            "(76, 12) (76,)\n"
          ],
          "name": "stdout"
        }
      ]
    },
    {
      "cell_type": "code",
      "metadata": {
        "colab_type": "code",
        "id": "vZrmERQawMLM",
        "colab": {}
      },
      "source": [
        "lm = linear_model.LinearRegression()\n",
        "\n",
        "model = lm.fit(x_train, y_train)\n",
        "predictions = lm.predict(x_test)"
      ],
      "execution_count": 0,
      "outputs": []
    },
    {
      "cell_type": "code",
      "metadata": {
        "colab_type": "code",
        "outputId": "76f1aa9e-134d-4b35-87bb-87fdac5976e0",
        "id": "pKo7znevwMLO",
        "colab": {
          "base_uri": "https://localhost:8080/",
          "height": 35
        }
      },
      "source": [
        "predictions[0:5]"
      ],
      "execution_count": 0,
      "outputs": [
        {
          "output_type": "execute_result",
          "data": {
            "text/plain": [
              "array([ 24.,  79., 506., 338.,  74.])"
            ]
          },
          "metadata": {
            "tags": []
          },
          "execution_count": 53
        }
      ]
    },
    {
      "cell_type": "code",
      "metadata": {
        "colab_type": "code",
        "outputId": "70e642e2-59b5-4040-b0f2-b5b92b7b5616",
        "id": "scWhXPqIwMLR",
        "colab": {
          "base_uri": "https://localhost:8080/",
          "height": 309
        }
      },
      "source": [
        "# 2014 plot\n",
        "\n",
        "plt.scatter(y_test, predictions)\n",
        "plt.xlabel('True Values')\n",
        "plt.ylabel('Predictions')"
      ],
      "execution_count": 0,
      "outputs": [
        {
          "output_type": "execute_result",
          "data": {
            "text/plain": [
              "Text(0, 0.5, 'Predictions')"
            ]
          },
          "metadata": {
            "tags": []
          },
          "execution_count": 54
        },
        {
          "output_type": "display_data",
          "data": {
            "image/png": "[encoded data removed]",
            "text/plain": [
              "<Figure size 432x288 with 1 Axes>"
            ]
          },
          "metadata": {
            "tags": []
          }
        }
      ]
    },
    {
      "cell_type": "code",
      "metadata": {
        "id": "iUO8VMKlwTNr",
        "colab_type": "code",
        "colab": {}
      },
      "source": [
        ""
      ],
      "execution_count": 0,
      "outputs": []
    }
  ]
}