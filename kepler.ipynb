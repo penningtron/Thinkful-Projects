{
 "cells": [
  {
   "cell_type": "code",
   "execution_count": null,
   "metadata": {},
   "outputs": [],
   "source": [
    "# I wanted to use the exoplanet data set to plan a mission to explore possible planets to settle. \n",
    "# In order to increase efficiency, I have chosen to visit a star system with multiple planets to increase chances of \n",
    "# finding a suitable location."
   ]
  },
  {
   "cell_type": "code",
   "execution_count": 32,
   "metadata": {},
   "outputs": [],
   "source": [
    "import numpy as np\n",
    "import pandas as pd\n",
    "import scipy\n",
    "import matplotlib.pyplot as plt\n",
    "%matplotlib inline\n",
    "\n"
   ]
  },
  {
   "cell_type": "code",
   "execution_count": 33,
   "metadata": {},
   "outputs": [],
   "source": [
    "df = pd.read_csv('kepler.csv')"
   ]
  },
  {
   "cell_type": "code",
   "execution_count": 47,
   "metadata": {},
   "outputs": [
    {
     "name": "stdout",
     "output_type": "stream",
     "text": [
      "Kepler-90             8\n",
      "TRAPPIST-1            7\n",
      "Kepler-80             6\n",
      "GJ 667 C              6\n",
      "HD 219134             6\n",
      "HD 10180              6\n",
      "HD 40307              6\n",
      "Kepler-20             6\n",
      "Kepler-11             6\n",
      "HD 34445              6\n",
      "HIP 41378             5\n",
      "Kepler-296            5\n",
      "Kepler-186            5\n",
      "Kepler-444            5\n",
      "Kepler-84             5\n",
      "Kepler-154            5\n",
      "Kepler-169            5\n",
      "Kepler-150            5\n",
      "55 Cnc                5\n",
      "Kepler-102            5\n",
      "Kepler-62             5\n",
      "Kepler-238            5\n",
      "Kepler-33             5\n",
      "Kepler-292            5\n",
      "Kepler-55             5\n",
      "mu Ara                4\n",
      "Kepler-223            4\n",
      "Kepler-235            4\n",
      "HR 8799               4\n",
      "ups And               4\n",
      "                     ..\n",
      "HAT-P-40              1\n",
      "HIP 109600            1\n",
      "Kepler-919            1\n",
      "51 Peg                1\n",
      "YBP1194               1\n",
      "GJ 3634               1\n",
      "Kepler-1373           1\n",
      "Kepler-574            1\n",
      "WASP-142              1\n",
      "HD 130322             1\n",
      "Kepler-677            1\n",
      "Kepler-1273           1\n",
      "Kepler-1261           1\n",
      "Kepler-504            1\n",
      "Kepler-875            1\n",
      "HD 41004 A            1\n",
      "Kepler-740            1\n",
      "2M 0746+20            1\n",
      "Kepler-491            1\n",
      "HATS-8                1\n",
      "Kepler-1133           1\n",
      "Kepler-1381           1\n",
      "WASP-90               1\n",
      "WASP-86               1\n",
      "OGLE-2017-BLG-1434    1\n",
      "EPIC 213715787        1\n",
      "Kepler-4              1\n",
      "Kepler-1525           1\n",
      "Kepler-1401           1\n",
      "Kepler-1425           1\n",
      "Name: star_name, Length: 2793, dtype: int64\n"
     ]
    }
   ],
   "source": [
    "#Shows how many planets are orbiting the star.\n",
    "starname = \"star_name\"\n",
    "\n",
    "\n",
    "print(df[starname].value_counts())\n",
    "\n"
   ]
  },
  {
   "cell_type": "code",
   "execution_count": 77,
   "metadata": {},
   "outputs": [
    {
     "name": "stdout",
     "output_type": "stream",
     "text": [
      "       star_name  number_planets  star_distance\n",
      "38        55 Cnc               5          12.34\n",
      "221     GJ 667 C               6           6.84\n",
      "363     HD 10180               6          39.40\n",
      "660    HD 219134               6           6.55\n",
      "727     HD 34445               6          46.50\n",
      "751     HD 40307               6          12.80\n",
      "908    HIP 41378               5         116.00\n",
      "1980  Kepler-186               5         151.00\n",
      "2020   Kepler-20               6         290.00\n",
      "3495  TRAPPIST-1               7          12.10\n"
     ]
    }
   ],
   "source": [
    "# Thats way to many stars to choose from. Lets narrow it down.\n",
    "\n",
    "\n",
    "#create columns for star and number of planets\n",
    "starname = \"star_name\"\n",
    "\n",
    "dflightyear = df['star_distance'].apply(lambda x: x * 3.262)\n",
    "\n",
    "planets = (df[starname].value_counts())\n",
    "\n",
    "#remove stars with less than 5 planets\n",
    "greaterthanfive = df[(df['number_planets'] >= 5)]\n",
    "\n",
    "# Include star distance from our Sun \n",
    "greaterthanfive = (greaterthanfive.drop_duplicates('star_name')[['star_name', 'number_planets', 'star_distance']])\n",
    "\n",
    "#Drop Nan values \n",
    "print (greaterthanfive.dropna() )"
   ]
  },
  {
   "cell_type": "code",
   "execution_count": null,
   "metadata": {},
   "outputs": [],
   "source": []
  }
 ],
 "metadata": {
  "kernelspec": {
   "display_name": "Python 3",
   "language": "python",
   "name": "python3"
  },
  "language_info": {
   "codemirror_mode": {
    "name": "ipython",
    "version": 3
   },
   "file_extension": ".py",
   "mimetype": "text/x-python",
   "name": "python",
   "nbconvert_exporter": "python",
   "pygments_lexer": "ipython3",
   "version": "3.7.1"
  }
 },
 "nbformat": 4,
 "nbformat_minor": 2
}
