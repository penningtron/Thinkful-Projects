{
 "cells": [
  {
   "cell_type": "code",
   "execution_count": 27,
   "metadata": {},
   "outputs": [],
   "source": [
    "# The data set I will be analyzing contains comprehensive data on exoplanets discovered and the stars they orbit.\n",
    "# I chose this data set because I find astromomy fascinating. I thought it would be interesting to work with data\n",
    "# about the universe and see what else is out there. \n",
    "\n",
    "# Three questions I have are...\n",
    "\n",
    "   # 1. How many of the stars contain an actual system of planets with more than one like our own solar system?\n",
    "\n",
    "   # 2. What are these planets made of? What elements are on them?\n",
    "\n",
    "   # 3. What are the densities of these planets? What is the relationship of the mass and size?"
   ]
  },
  {
   "cell_type": "code",
   "execution_count": 2,
   "metadata": {},
   "outputs": [],
   "source": [
    "import numpy as np\n",
    "import pandas as pd\n",
    "import scipy\n",
    "import matplotlib.pyplot as plt\n",
    "%matplotlib inline"
   ]
  },
  {
   "cell_type": "code",
   "execution_count": 3,
   "metadata": {},
   "outputs": [],
   "source": [
    "df = pd.read_csv('kepler.csv')"
   ]
  },
  {
   "cell_type": "code",
   "execution_count": 5,
   "metadata": {},
   "outputs": [
    {
     "data": {
      "text/plain": [
       "count            3732\n",
       "unique           3732\n",
       "top       1RXS 1609 b\n",
       "freq                1\n",
       "Name: # name, dtype: object"
      ]
     },
     "execution_count": 5,
     "metadata": {},
     "output_type": "execute_result"
    }
   ],
   "source": [
    "# Check how many exoplanets are in the data set.\n",
    "\n",
    "df_mass = df['# name']\n",
    "df_mass.describe()"
   ]
  },
  {
   "cell_type": "code",
   "execution_count": 12,
   "metadata": {},
   "outputs": [
    {
     "data": {
      "text/plain": [
       "['# name',\n",
       " 'planet_status',\n",
       " 'mass',\n",
       " 'mass_error_min',\n",
       " 'mass_error_max',\n",
       " 'mass_sini',\n",
       " 'mass_sini_error_min',\n",
       " 'mass_sini_error_max',\n",
       " 'radius',\n",
       " 'radius_error_min',\n",
       " 'radius_error_max',\n",
       " 'orbital_period',\n",
       " 'orbital_period_error_min',\n",
       " 'orbital_period_error_max',\n",
       " 'semi_major_axis',\n",
       " 'semi_major_axis_error_min',\n",
       " 'semi_major_axis_error_max',\n",
       " 'eccentricity',\n",
       " 'eccentricity_error_min',\n",
       " 'eccentricity_error_max',\n",
       " 'inclination',\n",
       " 'inclination_error_min',\n",
       " 'inclination_error_max',\n",
       " 'angular_distance',\n",
       " 'discovered',\n",
       " 'updated',\n",
       " 'omega',\n",
       " 'omega_error_min',\n",
       " 'omega_error_max',\n",
       " 'tperi',\n",
       " 'tperi_error_min',\n",
       " 'tperi_error_max',\n",
       " 'tconj',\n",
       " 'tconj_error_min',\n",
       " 'tconj_error_max',\n",
       " 'tzero_tr',\n",
       " 'tzero_tr_error_min',\n",
       " 'tzero_tr_error_max',\n",
       " 'tzero_tr_sec',\n",
       " 'tzero_tr_sec_error_min',\n",
       " 'tzero_tr_sec_error_max',\n",
       " 'lambda_angle',\n",
       " 'lambda_angle_error_min',\n",
       " 'lambda_angle_error_max',\n",
       " 'impact_parameter',\n",
       " 'impact_parameter_error_min',\n",
       " 'impact_parameter_error_max',\n",
       " 'tzero_vr',\n",
       " 'tzero_vr_error_min',\n",
       " 'tzero_vr_error_max',\n",
       " 'k',\n",
       " 'k_error_min',\n",
       " 'k_error_max',\n",
       " 'temp_calculated',\n",
       " 'temp_calculated_error_min',\n",
       " 'temp_calculated_error_max',\n",
       " 'temp_measured',\n",
       " 'hot_point_lon',\n",
       " 'geometric_albedo',\n",
       " 'geometric_albedo_error_min',\n",
       " 'geometric_albedo_error_max',\n",
       " 'log_g',\n",
       " 'publication_status',\n",
       " 'detection_type',\n",
       " 'mass_detection_type',\n",
       " 'radius_detection_type',\n",
       " 'alternate_names',\n",
       " 'molecules',\n",
       " 'star_name',\n",
       " 'ra',\n",
       " 'dec',\n",
       " 'mag_v',\n",
       " 'mag_i',\n",
       " 'mag_j',\n",
       " 'mag_h',\n",
       " 'mag_k',\n",
       " 'star_distance',\n",
       " 'star_distance_error_min',\n",
       " 'star_distance_error_max',\n",
       " 'star_metallicity',\n",
       " 'star_metallicity_error_min',\n",
       " 'star_metallicity_error_max',\n",
       " 'star_mass',\n",
       " 'star_mass_error_min',\n",
       " 'star_mass_error_max',\n",
       " 'star_radius',\n",
       " 'star_radius_error_min',\n",
       " 'star_radius_error_max',\n",
       " 'star_sp_type',\n",
       " 'star_age',\n",
       " 'star_age_error_min',\n",
       " 'star_age_error_max',\n",
       " 'star_teff',\n",
       " 'star_teff_error_min',\n",
       " 'star_teff_error_max',\n",
       " 'star_detected_disc',\n",
       " 'star_magnetic_field',\n",
       " 'star_alternate_names']"
      ]
     },
     "execution_count": 12,
     "metadata": {},
     "output_type": "execute_result"
    }
   ],
   "source": [
    "# Let's see what data is availible for these exoplanets.\n",
    "\n",
    "list(df.columns.values)"
   ]
  },
  {
   "cell_type": "code",
   "execution_count": 14,
   "metadata": {
    "scrolled": true
   },
   "outputs": [
    {
     "data": {
      "image/png": "[encoded data removed]",
      "text/plain": [
       "<Figure size 720x288 with 1 Axes>"
      ]
     },
     "metadata": {
      "needs_background": "light"
     },
     "output_type": "display_data"
    }
   ],
   "source": [
    "# Pretty extensive. Let's look at the methods of detection to find out how they were discovered.\n",
    "\n",
    "column = 'detection_type'\n",
    "plt.figure(figsize=(10, 4))\n",
    "df[column].value_counts().plot.bar()\n",
    "plt.title(\"Detection Type\")\n",
    "plt.ylabel(\"Exoplanets Discovered\")\n",
    "plt.show()\n",
    "\n",
    "# We can see that the Primary Transit method is most common. This method uses the Kepler space telescope to \n",
    "# scan a segment of the sky for stars. When an exoplanet orbits in front of the star, it dims and is detected \n",
    "# by Kepler.\n"
   ]
  },
  {
   "cell_type": "code",
   "execution_count": 8,
   "metadata": {},
   "outputs": [
    {
     "name": "stdout",
     "output_type": "stream",
     "text": [
      "Kepler-90           8\n",
      "TRAPPIST-1          7\n",
      "GJ 667 C            6\n",
      "Kepler-20           6\n",
      "HD 40307            6\n",
      "HD 34445            6\n",
      "HD 219134           6\n",
      "HD 10180            6\n",
      "Kepler-80           6\n",
      "Kepler-11           6\n",
      "Kepler-33           5\n",
      "Kepler-186          5\n",
      "Kepler-444          5\n",
      "Kepler-102          5\n",
      "55 Cnc              5\n",
      "Kepler-55           5\n",
      "Kepler-154          5\n",
      "Kepler-296          5\n",
      "Kepler-150          5\n",
      "Kepler-84           5\n",
      "Kepler-62           5\n",
      "Kepler-292          5\n",
      "HIP 41378           5\n",
      "Kepler-238          5\n",
      "Kepler-169          5\n",
      "Kepler-245          4\n",
      "Kepler-341          4\n",
      "HD 215152           4\n",
      "WASP-47             4\n",
      "Kepler-256          4\n",
      "                   ..\n",
      "HD 208527           1\n",
      "2M 2206-20          1\n",
      "14 Her              1\n",
      "Kepler-574          1\n",
      "MOA-bin-1           1\n",
      "HD 164595           1\n",
      "Kepler-933          1\n",
      "WASP-123            1\n",
      "HD 104985           1\n",
      "Kepler-1182         1\n",
      "WASP-113            1\n",
      "Kepler-704          1\n",
      "EPIC 220504338      1\n",
      "HD 222582           1\n",
      "Kepler-531          1\n",
      "LSR J1835           1\n",
      "HD 195019           1\n",
      "Kepler-1018         1\n",
      "Kepler-667          1\n",
      "HD 17092            1\n",
      "Kepler-1534         1\n",
      "Kepler-1303         1\n",
      "Kepler-1085         1\n",
      "Kepler-701          1\n",
      "Kepler-66           1\n",
      "K2-28               1\n",
      "Kepler-905          1\n",
      "WISE 1828+2650      1\n",
      "MOA-2010-BLG-117    1\n",
      "Kepler-461          1\n",
      "Name: star_name, Length: 2793, dtype: int64\n"
     ]
    }
   ],
   "source": [
    "# 1. How many of the stars contain an actual system of planets with more than one like our own solar system?\n",
    "\n",
    "#Shows how many planets are orbiting the star.\n",
    "\n",
    "starname = \"star_name\"\n",
    "print(df[starname].value_counts())\n"
   ]
  },
  {
   "cell_type": "code",
   "execution_count": 31,
   "metadata": {},
   "outputs": [
    {
     "name": "stdout",
     "output_type": "stream",
     "text": [
      "Kepler-90     8\n",
      "TRAPPIST-1    7\n",
      "Kepler-80     6\n",
      "GJ 667 C      6\n",
      "HD 10180      6\n",
      "HD 40307      6\n",
      "HD 34445      6\n",
      "Kepler-20     6\n",
      "Kepler-11     6\n",
      "HD 219134     6\n",
      "Kepler-84     5\n",
      "Kepler-186    5\n",
      "55 Cnc        5\n",
      "HIP 41378     5\n",
      "Kepler-292    5\n",
      "Kepler-444    5\n",
      "Kepler-154    5\n",
      "Kepler-102    5\n",
      "Kepler-33     5\n",
      "Kepler-169    5\n",
      "Kepler-296    5\n",
      "Kepler-150    5\n",
      "Kepler-238    5\n",
      "Kepler-62     5\n",
      "Kepler-55     5\n",
      "Name: star_name, dtype: int64\n"
     ]
    }
   ],
   "source": [
    "# The majority just have one. Lets narrow it down to 5 or more planets.\n",
    "\n",
    "# Create columns for star and number of planets\n",
    "starname = \"star_name\"\n",
    "planets_per_star = (df[starname].value_counts())\n",
    "\n",
    "# Remove stars with less than 5 planets\n",
    "greaterthanfive = planets_per_star[planets_per_star >= 5]\n",
    "\n",
    "print (greaterthanfive)"
   ]
  },
  {
   "cell_type": "code",
   "execution_count": 32,
   "metadata": {},
   "outputs": [
    {
     "data": {
      "text/plain": [
       "Kepler        0.574293\n",
       "HD            0.142499\n",
       "WASP          0.046903\n",
       "HATP          0.020408\n",
       "HATS          0.015754\n",
       "EPIC          0.014322\n",
       "GJ            0.013605\n",
       "K             0.012531\n",
       "CoRoT         0.011815\n",
       "HIP           0.010741\n",
       "OGLEBLGL      0.010383\n",
       "KOI           0.007877\n",
       "KIC           0.007519\n",
       "BD            0.006087\n",
       "MOABLGL       0.005729\n",
       "KELT          0.004296\n",
       "M             0.003580\n",
       "KeplerAB      0.002864\n",
       "OGLETR        0.002506\n",
       "HDA           0.002506\n",
       "TYC           0.002148\n",
       "Qatar         0.002148\n",
       "OGLEBLG       0.001790\n",
       "HR            0.001790\n",
       "KeplerA       0.001790\n",
       "MOABLG        0.001790\n",
       "XO            0.001790\n",
       "TrES          0.001790\n",
       "HDB           0.001432\n",
       "PSRB          0.001432\n",
       "                ...   \n",
       "betaPic       0.000358\n",
       "ROXsB         0.000358\n",
       "VHya          0.000358\n",
       "Umi           0.000358\n",
       "UMi           0.000358\n",
       "FLLyr         0.000358\n",
       "SRAB          0.000358\n",
       "etaCet        0.000358\n",
       "Lalande       0.000358\n",
       "kappaCrB      0.000358\n",
       "PZTel         0.000358\n",
       "DE            0.000358\n",
       "Del           0.000358\n",
       "NLTT          0.000358\n",
       "kappaAnd      0.000358\n",
       "Aldebaran     0.000358\n",
       "epsCrB        0.000358\n",
       "epsEridani    0.000358\n",
       "OGLEBLGLAB    0.000358\n",
       "GSC           0.000358\n",
       "Aqr           0.000358\n",
       "VOph          0.000358\n",
       "betaCnc       0.000358\n",
       "ksiAql        0.000358\n",
       "WD            0.000358\n",
       "CD            0.000358\n",
       "Proplyd       0.000358\n",
       "CHXR          0.000358\n",
       "RRCae         0.000358\n",
       "NGC           0.000358\n",
       "Length: 185, dtype: float64"
      ]
     },
     "execution_count": 32,
     "metadata": {},
     "output_type": "execute_result"
    }
   ],
   "source": [
    "# We now have a list of stars with 5 or more planets in orbit. \n",
    "# A lot of these stars are named after the Kepler space telescope which discovered them.\n",
    "# Lets see what percentage that is.\n",
    "\n",
    "planets_per_star.index.str.replace(r'[^a-zA-Z]+', '').value_counts(normalize = True)\n",
    "\n",
    "#Over 50% of the stars.\n"
   ]
  },
  {
   "cell_type": "code",
   "execution_count": 33,
   "metadata": {},
   "outputs": [
    {
     "name": "stdout",
     "output_type": "stream",
     "text": [
      "    index                                          molecules\n",
      "0       9                                         H2O, CO, K\n",
      "1      23                                            H2O, CO\n",
      "2      36                                           CH4, H2O\n",
      "3      37                                            CO, H2O\n",
      "4      41                                           H2O, HCN\n",
      "5     173                                    O2, H2, N2, CO2\n",
      "6     211                               CH4, H, CO2, CO, H2O\n",
      "7     212                                                CH4\n",
      "8     214                                                NH3\n",
      "9     235                                                CH4\n",
      "10    253                                                CH4\n",
      "11    255                                     H2O, O I, K, C\n",
      "12    274                                                H2O\n",
      "13    570                                            CO, H2O\n",
      "14    588                   H2O, O I, CO2, CH4, CO, Na, H, C\n",
      "15    633  O2, VO, H2O, O I, CO2, Mg, CH4, NH3, Na, CO, K...\n",
      "16    845                                                  K\n",
      "17    946                                       CH4, H2O, CO\n",
      "18   3484                                         H2O, CO, K\n",
      "19   3487                                    CH4, H2O, H2, K\n",
      "20   3495                                                H2O\n",
      "21   3496                                                H2O\n",
      "22   3497                                                H2O\n",
      "23   3498                                                H2O\n",
      "24   3499                                                H2O\n",
      "25   3500                                                H2O\n",
      "26   3501                                                H2O\n",
      "27   3529                                              Na, K\n",
      "28   3545        TiO, VO, H2O, O I, CO2, CH4, CO, H2, HCN, C\n",
      "29   3547                                       TiO, H2O, VO\n",
      "30   3574                                      O I, Na, C, K\n",
      "31   3575                                                H2O\n",
      "32   3576                                        TiO, O I, C\n",
      "33   3588                                                  K\n",
      "34   3596                                                H2O\n",
      "35   3601                     CH4, NH3, C, CO, CO2, H2O, O I\n",
      "36   3610                                                 Na\n",
      "37   3613                                                 Na\n",
      "38   3632                                                 Na\n",
      "39   3645                         CH4, CO, Na, K, H2O, He, H\n",
      "40   3665                                            TiO, VO\n",
      "41   3669                                           CH4, H2O\n",
      "42   3671                                       CH4, H2O, H2\n",
      "43   3680                                             O I, C\n",
      "44   3681                                              Na, K\n",
      "45   3698                                                  H\n",
      "46   3707                                                H2O\n",
      "47   3722                                                H2O\n"
     ]
    }
   ],
   "source": [
    "# 2. What are these planets made of? What elements are on them?\n",
    "\n",
    "# Pull up the molecule data.\n",
    "\n",
    "molecules = 'molecules'\n",
    "print(df[molecules].dropna().reset_index())"
   ]
  },
  {
   "cell_type": "code",
   "execution_count": 15,
   "metadata": {},
   "outputs": [
    {
     "data": {
      "image/png": "[encoded data removed]",
      "text/plain": [
       "<Figure size 864x288 with 1 Axes>"
      ]
     },
     "metadata": {
      "needs_background": "light"
     },
     "output_type": "display_data"
    }
   ],
   "source": [
    "column = \"molecules\"\n",
    "plt.figure(figsize=(12, 4))\n",
    "df[column].value_counts().plot.bar()\n",
    "plt.title(\"Bar Plot of Molecules\")\n",
    "plt.show()"
   ]
  },
  {
   "cell_type": "code",
   "execution_count": 35,
   "metadata": {},
   "outputs": [
    {
     "data": {
      "text/plain": [
       "H2O    31\n",
       "CH4    14\n",
       "CO     12\n",
       "K      11\n",
       "Na      9\n",
       "O I     8\n",
       "C       8\n",
       "CO2     6\n",
       "H2      5\n",
       "H       5\n",
       "TiO     5\n",
       "VO      4\n",
       "HCN     3\n",
       "NH3     3\n",
       "O2      2\n",
       "He      1\n",
       "Mg      1\n",
       "N2      1\n",
       "dtype: int64"
      ]
     },
     "execution_count": 35,
     "metadata": {},
     "output_type": "execute_result"
    }
   ],
   "source": [
    "# Some of these contain water! Perhaps they contain life as well.\n",
    "# We can see that there is H2O grouped in with some other elements. \n",
    "# Let's find out how many of these planets have water.\n",
    "\n",
    "pd.Series(', '.join(df.molecules.dropna()).split(', ')).value_counts()"
   ]
  },
  {
   "cell_type": "code",
   "execution_count": 36,
   "metadata": {},
   "outputs": [
    {
     "data": {
      "image/png": "[encoded data removed]",
      "text/plain": [
       "<Figure size 1800x720 with 2 Axes>"
      ]
     },
     "metadata": {
      "needs_background": "light"
     },
     "output_type": "display_data"
    }
   ],
   "source": [
    "# 31 of the planets with molecular data have water on them.\n",
    "\n",
    "# 3. What are the densities of these planets? What is the relationship of the mass and size?\n",
    "\n",
    "# Let's take a histogram to see where these values are.\n",
    "\n",
    "hist = df.hist(column = ['radius', 'mass'],\n",
    "              figsize = [25, 10],\n",
    "                 bins = 20,\n",
    "              )"
   ]
  },
  {
   "cell_type": "code",
   "execution_count": 37,
   "metadata": {},
   "outputs": [
    {
     "data": {
      "image/png": "[encoded data removed]",
      "text/plain": [
       "<Figure size 1440x720 with 1 Axes>"
      ]
     },
     "metadata": {
      "needs_background": "light"
     },
     "output_type": "display_data"
    }
   ],
   "source": [
    "# The mass and radius are in terms of the planet Jupiter. It looks like the majority of exoplanets with this data \n",
    "# are less than half the radius of jupiter.\n",
    "\n",
    "density = df.plot.scatter(x = 'mass',\n",
    "                          y = 'radius',\n",
    "                       grid = True,\n",
    "                    figsize = [20, 10],\n",
    "                          )"
   ]
  },
  {
   "cell_type": "code",
   "execution_count": null,
   "metadata": {},
   "outputs": [],
   "source": [
    "# This scatter plot shows the over all desities of the exoplanets with mass and radius data."
   ]
  },
  {
   "cell_type": "code",
   "execution_count": 7,
   "metadata": {},
   "outputs": [
    {
     "data": {
      "text/plain": [
       "count    2826.000000\n",
       "mean        0.381838\n",
       "std         0.412572\n",
       "min         0.000002\n",
       "25%         0.140000\n",
       "50%         0.210000\n",
       "75%         0.332750\n",
       "max         2.500000\n",
       "Name: radius, dtype: float64"
      ]
     },
     "execution_count": 7,
     "metadata": {},
     "output_type": "execute_result"
    }
   ],
   "source": [
    "# Let's check the stats for the mass and radius.\n",
    "\n",
    "df_radius = df['radius']\n",
    "df_radius.describe()"
   ]
  },
  {
   "cell_type": "code",
   "execution_count": 8,
   "metadata": {},
   "outputs": [
    {
     "data": {
      "text/plain": [
       "count    1586.000000\n",
       "mean        4.246192\n",
       "std         9.706793\n",
       "min         0.000002\n",
       "25%         0.117500\n",
       "50%         0.945500\n",
       "75%         3.097500\n",
       "max        93.600000\n",
       "Name: mass, dtype: float64"
      ]
     },
     "execution_count": 8,
     "metadata": {},
     "output_type": "execute_result"
    }
   ],
   "source": [
    "df_mass = df['mass']\n",
    "df_mass.describe()"
   ]
  },
  {
   "cell_type": "code",
   "execution_count": null,
   "metadata": {},
   "outputs": [],
   "source": [
    "# The mean radius and mass in terms of Jupiter are 0.38 and 4.25 respectivly. So the average \n",
    "# exoplanet is 38% the size of Jupiter but 425% more massive. This leads me to believe that \n",
    "# the average exoplanet is rocky and not gaseous like Jupiter."
   ]
  },
  {
   "cell_type": "code",
   "execution_count": 38,
   "metadata": {},
   "outputs": [],
   "source": [
    "# For further research, I would like to take a deeper look at the densities of the exoplanets. \n",
    "# The data gave the radius and mass in terms of Jupiter and I would like to spend more time converting that \n",
    "# into kilograms and kilometers to input into equations to find the force of gravity.\n",
    "# With this information, I could calculate how much would a person weigh or how fast would something or \n",
    "# someone need to travel to orbit the exoplanet? "
   ]
  },
  {
   "cell_type": "code",
   "execution_count": null,
   "metadata": {},
   "outputs": [],
   "source": []
  }
 ],
 "metadata": {
  "kernelspec": {
   "display_name": "Python 3",
   "language": "python",
   "name": "python3"
  },
  "language_info": {
   "codemirror_mode": {
    "name": "ipython",
    "version": 3
   },
   "file_extension": ".py",
   "mimetype": "text/x-python",
   "name": "python",
   "nbconvert_exporter": "python",
   "pygments_lexer": "ipython3",
   "version": "3.7.1"
  }
 },
 "nbformat": 4,
 "nbformat_minor": 2
}
