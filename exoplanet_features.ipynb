{
 "cells": [
  {
   "cell_type": "code",
   "execution_count": 2,
   "metadata": {},
   "outputs": [],
   "source": [
    "import numpy as np\n",
    "import pandas as pd\n",
    "import scipy\n",
    "import matplotlib.pyplot as plt\n",
    "%matplotlib inline"
   ]
  },
  {
   "cell_type": "code",
   "execution_count": 3,
   "metadata": {},
   "outputs": [],
   "source": [
    "df = pd.read_csv('kepler.csv')"
   ]
  },
  {
   "cell_type": "markdown",
   "metadata": {},
   "source": [
    "5 features are..\n",
    "Will the star turn into a black hole?\n",
    "Classifiation of the star.\n",
    "Mass of planet in kg.\n",
    "Radius in km.\n",
    "Calculate the force of gravity."
   ]
  },
  {
   "cell_type": "code",
   "execution_count": 5,
   "metadata": {},
   "outputs": [
    {
     "data": {
      "text/plain": [
       "false    3353\n",
       "true        1\n",
       "Name: black_hole, dtype: int64"
      ]
     },
     "execution_count": 5,
     "metadata": {},
     "output_type": "execute_result"
    }
   ],
   "source": [
    "# Will star turn into a black hole?\n",
    "\n",
    "# Stars with masses 20 times greater than that of our Sun will turn into a black hole.\n",
    "\n",
    "df.loc[df.star_mass > 20,'black_hole'] = 'true'\n",
    "df.loc[df.star_mass < 20,'black_hole'] = 'false'\n",
    "\n",
    "df.black_hole.value_counts()"
   ]
  },
  {
   "cell_type": "code",
   "execution_count": 19,
   "metadata": {},
   "outputs": [
    {
     "data": {
      "text/plain": [
       "G    509\n",
       "K    338\n",
       "F    169\n",
       "M    164\n",
       "A     29\n",
       "B     11\n",
       "T      8\n",
       "s      6\n",
       "P      5\n",
       "D      4\n",
       "W      4\n",
       "d      2\n",
       "C      2\n",
       "S      1\n",
       "Y      1\n",
       "       1\n",
       "k      1\n",
       "L      1\n",
       "Name: star_type, dtype: int64"
      ]
     },
     "execution_count": 19,
     "metadata": {},
     "output_type": "execute_result"
    }
   ],
   "source": [
    "#Star Classifiaction \n",
    "\n",
    "\n",
    "df['star_type'] = df['star_sp_type'].dropna().astype(str).str[0]\n",
    "\n",
    "\n",
    "df.star_type.value_counts()\n",
    "\n"
   ]
  },
  {
   "cell_type": "code",
   "execution_count": 7,
   "metadata": {},
   "outputs": [],
   "source": [
    "#mass of planet in kg is equal to the mass of the planet / the mass of jupiter\n",
    "mass_kg = df.mass/1.898e27"
   ]
  },
  {
   "cell_type": "code",
   "execution_count": 10,
   "metadata": {},
   "outputs": [],
   "source": [
    "#radius in km\n",
    "\n",
    "#radius of jupiter in km\n",
    "radiuskm_jup = 71492\n",
    "\n",
    "r = df.radius * radiuskm_jup"
   ]
  },
  {
   "cell_type": "code",
   "execution_count": 11,
   "metadata": {},
   "outputs": [
    {
     "data": {
      "text/plain": [
       "9       3.332270e-47\n",
       "14      1.375752e-46\n",
       "15      4.611050e-47\n",
       "17      2.193248e-46\n",
       "21      1.625415e-46\n",
       "22      1.221081e-46\n",
       "36      5.080488e-47\n",
       "37      8.955724e-49\n",
       "41      5.558595e-48\n",
       "64      8.910893e-48\n",
       "74      2.982589e-48\n",
       "83      2.416093e-47\n",
       "84      1.169055e-47\n",
       "85      3.191352e-48\n",
       "86      2.010478e-47\n",
       "87      7.837794e-48\n",
       "88      3.041966e-48\n",
       "89      1.148765e-47\n",
       "90      4.400182e-47\n",
       "91      3.476668e-46\n",
       "92      2.688389e-48\n",
       "93      1.606630e-47\n",
       "94      1.390903e-47\n",
       "95      4.588319e-48\n",
       "96      1.060871e-47\n",
       "97      4.133494e-47\n",
       "98      9.198812e-48\n",
       "99      1.393053e-48\n",
       "100     1.651279e-47\n",
       "101     1.136985e-48\n",
       "            ...     \n",
       "3649    1.907940e-48\n",
       "3650    5.379819e-48\n",
       "3651    5.659228e-48\n",
       "3652    1.413901e-47\n",
       "3653    7.925063e-48\n",
       "3654    1.332908e-48\n",
       "3655    3.752281e-47\n",
       "3656    1.631080e-48\n",
       "3657    8.688411e-48\n",
       "3658    2.594212e-48\n",
       "3659    3.964766e-48\n",
       "3660    1.050973e-48\n",
       "3662    5.309061e-48\n",
       "3663    2.292919e-48\n",
       "3664    7.110941e-48\n",
       "3665    4.718487e-48\n",
       "3666    1.580409e-47\n",
       "3669    8.783570e-47\n",
       "3671    1.642065e-46\n",
       "3675    1.242458e-47\n",
       "3676    4.558703e-48\n",
       "3680    4.416204e-48\n",
       "3681    4.504805e-48\n",
       "3684    5.475738e-47\n",
       "3685    6.408846e-48\n",
       "3686    6.983148e-48\n",
       "3687    3.050162e-48\n",
       "3698    1.768643e-47\n",
       "3707    6.687681e-47\n",
       "3722    3.575289e-47\n",
       "Name: gravitational_force, Length: 684, dtype: float64"
      ]
     },
     "execution_count": 11,
     "metadata": {},
     "output_type": "execute_result"
    }
   ],
   "source": [
    "# Calculate the force of gravity\n",
    "# g = (Gm)/r^2\n",
    "\n",
    "\n",
    "\n",
    "#mass of planet in kg is equal to the mass of the planet / the mass of jupiter\n",
    "mass_kg = df.mass/1.898e27\n",
    "\n",
    "r = df.radius * radiuskm_jup\n",
    "G = 6.673*(10**-11) \n",
    "g = (G*mass_kg)/(r**2)\n",
    "\n",
    "\n",
    "\n",
    "\n",
    "df['gravitational_force'] = g\n",
    "\n",
    "df.gravitational_force.dropna()\n",
    "\n",
    "\n",
    "\n",
    "\n",
    "\n",
    "\n",
    "\n",
    "\n"
   ]
  },
  {
   "cell_type": "code",
   "execution_count": null,
   "metadata": {},
   "outputs": [],
   "source": [
    "\n"
   ]
  },
  {
   "cell_type": "code",
   "execution_count": null,
   "metadata": {},
   "outputs": [],
   "source": []
  },
  {
   "cell_type": "code",
   "execution_count": null,
   "metadata": {},
   "outputs": [],
   "source": []
  }
 ],
 "metadata": {
  "kernelspec": {
   "display_name": "Python 3",
   "language": "python",
   "name": "python3"
  },
  "language_info": {
   "codemirror_mode": {
    "name": "ipython",
    "version": 3
   },
   "file_extension": ".py",
   "mimetype": "text/x-python",
   "name": "python",
   "nbconvert_exporter": "python",
   "pygments_lexer": "ipython3",
   "version": "3.7.1"
  }
 },
 "nbformat": 4,
 "nbformat_minor": 2
}
